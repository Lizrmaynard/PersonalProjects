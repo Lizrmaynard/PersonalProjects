{
 "cells": [
  {
   "cell_type": "code",
   "execution_count": 6,
   "id": "2db715e3",
   "metadata": {},
   "outputs": [],
   "source": [
    "#imports and setup for probability calculator\n",
    "import numpy as np\n",
    "import matplotlib.pyplot as plt\n",
    "from decimal import Decimal\n",
    "\n",
    "#define the function for the input number you are rollling below\n",
    "def below_probability(target,rolls):\n",
    "    #define parameters for inputs\n",
    "    if target <1 or target >20:\n",
    "        raise ValueError(\"Target number must be between 1 and 20\")\n",
    "        \n",
    "    if rolls <= 0:\n",
    "        raise ValueError(\"Number of rolls must be a positive integer\")\n",
    "        \n",
    "    probability_single_roll = (target * 1/20.0)\n",
    "    \n",
    "    probability_all_rolls = probability_single_roll ** rolls\n",
    "    \n",
    "    probability_only_below = probability_all_rolls * 100\n",
    "    \n",
    "    return probability_only_below\n"
   ]
  },
  {
   "cell_type": "code",
   "execution_count": 7,
   "id": "abdc6322",
   "metadata": {},
   "outputs": [
    {
     "name": "stdout",
     "output_type": "stream",
     "text": [
      "Probability of only rolling below or equal to 11 on a 20-sided dice in 48 rolls: 0.00000000003446744535469028 %\n",
      "Probability ratio of only rolling below or equal to 11 on a 20-sided dice in 48 rolls: 1 in 2901288417837\n"
     ]
    }
   ],
   "source": [
    "#we use the example numbers\n",
    "\n",
    "target = 11\n",
    "rolls = 48\n",
    "\n",
    "#Fromatting the resulting value into percentage and ratio\n",
    "\n",
    "probability = below_probability(target, rolls)\n",
    "\n",
    "probability_percent = np.format_float_positional(probability, trim='-')\n",
    "\n",
    "probability_percent_ratio = Decimal(probability_percent)\n",
    "\n",
    "probability_non_float = probability / 100\n",
    "\n",
    "probability_ratio = 1/probability_non_float\n",
    "\n",
    "probability_round = round(probability_ratio)\n",
    "\n",
    "#Printing the probability in percentage and ratio\n",
    "print(\"Probability of only rolling below or equal to\", target, \"on a 20-sided dice in\", rolls, \"rolls:\", probability_percent,\"%\")\n",
    "print(\"Probability ratio of only rolling below or equal to\", target, \"on a 20-sided dice in\", rolls, \"rolls:\", \"1 in\", probability_round)"
   ]
  },
  {
   "cell_type": "code",
   "execution_count": 8,
   "id": "395de026",
   "metadata": {},
   "outputs": [
    {
     "name": "stdout",
     "output_type": "stream",
     "text": [
      "Probability of only rolling below or equal to 15 on a 20-sided dice in 10 rolls: 5.631351470947266 %\n",
      "Probability ratio of only rolling below or equal to 15 on a 20-sided dice in 10 rolls: 1 in 18\n"
     ]
    }
   ],
   "source": [
    "#Setting up example 2\n",
    "\n",
    "target1 = 15\n",
    "rolls1 = 10\n",
    "\n",
    "#Formatting the resulting value into percentage and ratio\n",
    "\n",
    "probability1 = below_probability(target1, rolls1)\n",
    "\n",
    "probability_percent1 = np.format_float_positional(probability1, trim='-')\n",
    "\n",
    "probability_percent_ratio1 = Decimal(probability_percent1)\n",
    "\n",
    "probability_non_float1 = probability1 / 100\n",
    "\n",
    "probability_ratio1 = 1/probability_non_float1\n",
    "\n",
    "probability_round1 = round(probability_ratio1)\n",
    "\n",
    "\n",
    "#Printing the probability in percentage and ratio\n",
    "print(\"Probability of only rolling below or equal to\", target1, \"on a 20-sided dice in\", rolls1, \"rolls:\", probability_percent1,\"%\")\n",
    "print(\"Probability ratio of only rolling below or equal to\", target1, \"on a 20-sided dice in\", rolls1, \"rolls:\", \"1 in\", probability_round1)"
   ]
  },
  {
   "cell_type": "code",
   "execution_count": 9,
   "id": "29350f36",
   "metadata": {},
   "outputs": [
    {
     "name": "stdout",
     "output_type": "stream",
     "text": [
      "Probability of only rolling below or equal to 5 on a 20-sided dice in 22 rolls: 0.0000000000056843418860808015 %\n",
      "Probability ratio of only rolling below or equal to 5 on a 20-sided dice in 22 rolls: 1 in 17592186044416\n"
     ]
    }
   ],
   "source": [
    "#Setting up example 3\n",
    "\n",
    "target2 = 5\n",
    "rolls2 = 22\n",
    "\n",
    "#Formatting the resulting value into percentage and ratio\n",
    "\n",
    "probability2 = below_probability(target2, rolls2)\n",
    "\n",
    "probability_percent2 = np.format_float_positional(probability2, trim='-')\n",
    "\n",
    "probability_percent_ratio2 = Decimal(probability_percent2)\n",
    "\n",
    "probability_non_float2 = probability2 / 100\n",
    "\n",
    "probability_ratio2 = 1/probability_non_float2\n",
    "\n",
    "probability_round2 = round(probability_ratio2)\n",
    "\n",
    "\n",
    "#Printing the probability in percentage and ratio\n",
    "print(\"Probability of only rolling below or equal to\", target2, \"on a 20-sided dice in\", rolls2, \"rolls:\", probability_percent2,\"%\")\n",
    "print(\"Probability ratio of only rolling below or equal to\", target2, \"on a 20-sided dice in\", rolls2, \"rolls:\", \"1 in\", probability_round2)"
   ]
  },
  {
   "cell_type": "code",
   "execution_count": 10,
   "id": "d4f7f0c7",
   "metadata": {},
   "outputs": [
    {
     "name": "stdout",
     "output_type": "stream",
     "text": [
      "Probability of only rolling below or equal to 20 on a 20-sided dice in 1 rolls: 100 %\n",
      "Probability ratio of only rolling below or equal to 20 on a 20-sided dice in 1 rolls: 1 in 1\n"
     ]
    }
   ],
   "source": [
    "#Setting up example 4\n",
    "\n",
    "target3 = 20\n",
    "rolls3 = 1\n",
    "\n",
    "#Formatting the resulting value into percentage and ratio\n",
    "\n",
    "probability3 = below_probability(target3, rolls3)\n",
    "\n",
    "probability_percent3 = np.format_float_positional(probability3, trim='-')\n",
    "\n",
    "probability_percent_ratio3 = Decimal(probability_percent3)\n",
    "\n",
    "probability_non_float3 = probability3 / 100\n",
    "\n",
    "probability_ratio3 = 1/probability_non_float3\n",
    "\n",
    "probability_round3= round(probability_ratio3)\n",
    "\n",
    "\n",
    "#Printing the probability in percentage and ratio\n",
    "print(\"Probability of only rolling below or equal to\", target3, \"on a 20-sided dice in\", rolls3, \"rolls:\", probability_percent3,\"%\")\n",
    "print(\"Probability ratio of only rolling below or equal to\", target3, \"on a 20-sided dice in\", rolls3, \"rolls:\", \"1 in\", probability_round3)"
   ]
  },
  {
   "cell_type": "code",
   "execution_count": null,
   "id": "03791c6e",
   "metadata": {},
   "outputs": [],
   "source": []
  }
 ],
 "metadata": {
  "kernelspec": {
   "display_name": "Python 3",
   "language": "python",
   "name": "python3"
  },
  "language_info": {
   "codemirror_mode": {
    "name": "ipython",
    "version": 3
   },
   "file_extension": ".py",
   "mimetype": "text/x-python",
   "name": "python",
   "nbconvert_exporter": "python",
   "pygments_lexer": "ipython3",
   "version": "3.8.8"
  }
 },
 "nbformat": 4,
 "nbformat_minor": 5
}
